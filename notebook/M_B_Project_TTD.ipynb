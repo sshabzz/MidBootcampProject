{
 "cells": [
  {
   "cell_type": "code",
   "execution_count": 1,
   "id": "202f47aa",
   "metadata": {},
   "outputs": [],
   "source": [
    "import pandas as pd\n",
    "import numpy as np\n",
    "import matplotlib\n",
    "import matplotlib.pyplot as plt\n",
    "import seaborn as sns"
   ]
  },
  {
   "cell_type": "markdown",
   "id": "4dd5124a",
   "metadata": {},
   "source": [
    "# Traveler Trip Dataset \n",
    "https://www.kaggle.com/datasets/rkiattisak/traveler-trip-data"
   ]
  },
  {
   "cell_type": "code",
   "execution_count": 2,
   "id": "ce4bba4b",
   "metadata": {},
   "outputs": [
    {
     "data": {
      "text/html": [
       "<div>\n",
       "<style scoped>\n",
       "    .dataframe tbody tr th:only-of-type {\n",
       "        vertical-align: middle;\n",
       "    }\n",
       "\n",
       "    .dataframe tbody tr th {\n",
       "        vertical-align: top;\n",
       "    }\n",
       "\n",
       "    .dataframe thead th {\n",
       "        text-align: right;\n",
       "    }\n",
       "</style>\n",
       "<table border=\"1\" class=\"dataframe\">\n",
       "  <thead>\n",
       "    <tr style=\"text-align: right;\">\n",
       "      <th></th>\n",
       "      <th>Trip ID</th>\n",
       "      <th>Destination</th>\n",
       "      <th>Start date</th>\n",
       "      <th>End date</th>\n",
       "      <th>Duration (days)</th>\n",
       "      <th>Traveler name</th>\n",
       "      <th>Traveler age</th>\n",
       "      <th>Traveler gender</th>\n",
       "      <th>Traveler nationality</th>\n",
       "      <th>Accommodation type</th>\n",
       "      <th>Accommodation cost</th>\n",
       "      <th>Transportation type</th>\n",
       "      <th>Transportation cost</th>\n",
       "    </tr>\n",
       "  </thead>\n",
       "  <tbody>\n",
       "    <tr>\n",
       "      <th>0</th>\n",
       "      <td>1</td>\n",
       "      <td>London, UK</td>\n",
       "      <td>5/1/2023</td>\n",
       "      <td>5/8/2023</td>\n",
       "      <td>7.0</td>\n",
       "      <td>John Smith</td>\n",
       "      <td>35.0</td>\n",
       "      <td>Male</td>\n",
       "      <td>American</td>\n",
       "      <td>Hotel</td>\n",
       "      <td>1200</td>\n",
       "      <td>Flight</td>\n",
       "      <td>600</td>\n",
       "    </tr>\n",
       "    <tr>\n",
       "      <th>1</th>\n",
       "      <td>2</td>\n",
       "      <td>Phuket, Thailand</td>\n",
       "      <td>6/15/2023</td>\n",
       "      <td>6/20/2023</td>\n",
       "      <td>5.0</td>\n",
       "      <td>Jane Doe</td>\n",
       "      <td>28.0</td>\n",
       "      <td>Female</td>\n",
       "      <td>Canadian</td>\n",
       "      <td>Resort</td>\n",
       "      <td>800</td>\n",
       "      <td>Flight</td>\n",
       "      <td>500</td>\n",
       "    </tr>\n",
       "    <tr>\n",
       "      <th>2</th>\n",
       "      <td>3</td>\n",
       "      <td>Bali, Indonesia</td>\n",
       "      <td>7/1/2023</td>\n",
       "      <td>7/8/2023</td>\n",
       "      <td>7.0</td>\n",
       "      <td>David Lee</td>\n",
       "      <td>45.0</td>\n",
       "      <td>Male</td>\n",
       "      <td>Korean</td>\n",
       "      <td>Villa</td>\n",
       "      <td>1000</td>\n",
       "      <td>Flight</td>\n",
       "      <td>700</td>\n",
       "    </tr>\n",
       "    <tr>\n",
       "      <th>3</th>\n",
       "      <td>4</td>\n",
       "      <td>New York, USA</td>\n",
       "      <td>8/15/2023</td>\n",
       "      <td>8/29/2023</td>\n",
       "      <td>14.0</td>\n",
       "      <td>Sarah Johnson</td>\n",
       "      <td>29.0</td>\n",
       "      <td>Female</td>\n",
       "      <td>British</td>\n",
       "      <td>Hotel</td>\n",
       "      <td>2000</td>\n",
       "      <td>Flight</td>\n",
       "      <td>1000</td>\n",
       "    </tr>\n",
       "    <tr>\n",
       "      <th>4</th>\n",
       "      <td>5</td>\n",
       "      <td>Tokyo, Japan</td>\n",
       "      <td>9/10/2023</td>\n",
       "      <td>9/17/2023</td>\n",
       "      <td>7.0</td>\n",
       "      <td>Kim Nguyen</td>\n",
       "      <td>26.0</td>\n",
       "      <td>Female</td>\n",
       "      <td>Vietnamese</td>\n",
       "      <td>Airbnb</td>\n",
       "      <td>700</td>\n",
       "      <td>Train</td>\n",
       "      <td>200</td>\n",
       "    </tr>\n",
       "    <tr>\n",
       "      <th>...</th>\n",
       "      <td>...</td>\n",
       "      <td>...</td>\n",
       "      <td>...</td>\n",
       "      <td>...</td>\n",
       "      <td>...</td>\n",
       "      <td>...</td>\n",
       "      <td>...</td>\n",
       "      <td>...</td>\n",
       "      <td>...</td>\n",
       "      <td>...</td>\n",
       "      <td>...</td>\n",
       "      <td>...</td>\n",
       "      <td>...</td>\n",
       "    </tr>\n",
       "    <tr>\n",
       "      <th>134</th>\n",
       "      <td>135</td>\n",
       "      <td>Rio de Janeiro, Brazil</td>\n",
       "      <td>8/1/2023</td>\n",
       "      <td>8/10/2023</td>\n",
       "      <td>9.0</td>\n",
       "      <td>Jose Perez</td>\n",
       "      <td>37.0</td>\n",
       "      <td>Male</td>\n",
       "      <td>Brazilian</td>\n",
       "      <td>Hostel</td>\n",
       "      <td>2500</td>\n",
       "      <td>Car</td>\n",
       "      <td>2000</td>\n",
       "    </tr>\n",
       "    <tr>\n",
       "      <th>135</th>\n",
       "      <td>136</td>\n",
       "      <td>Vancouver, Canada</td>\n",
       "      <td>8/15/2023</td>\n",
       "      <td>8/21/2023</td>\n",
       "      <td>6.0</td>\n",
       "      <td>Emma Wilson</td>\n",
       "      <td>29.0</td>\n",
       "      <td>Female</td>\n",
       "      <td>Canadian</td>\n",
       "      <td>Hotel</td>\n",
       "      <td>5000</td>\n",
       "      <td>Airplane</td>\n",
       "      <td>3000</td>\n",
       "    </tr>\n",
       "    <tr>\n",
       "      <th>136</th>\n",
       "      <td>137</td>\n",
       "      <td>Bangkok, Thailand</td>\n",
       "      <td>9/1/2023</td>\n",
       "      <td>9/8/2023</td>\n",
       "      <td>7.0</td>\n",
       "      <td>Ryan Chen</td>\n",
       "      <td>34.0</td>\n",
       "      <td>Male</td>\n",
       "      <td>Chinese</td>\n",
       "      <td>Hostel</td>\n",
       "      <td>2000</td>\n",
       "      <td>Train</td>\n",
       "      <td>1000</td>\n",
       "    </tr>\n",
       "    <tr>\n",
       "      <th>137</th>\n",
       "      <td>138</td>\n",
       "      <td>Barcelona, Spain</td>\n",
       "      <td>9/15/2023</td>\n",
       "      <td>9/22/2023</td>\n",
       "      <td>7.0</td>\n",
       "      <td>Sofia Rodriguez</td>\n",
       "      <td>25.0</td>\n",
       "      <td>Female</td>\n",
       "      <td>Spanish</td>\n",
       "      <td>Airbnb</td>\n",
       "      <td>6000</td>\n",
       "      <td>Airplane</td>\n",
       "      <td>2500</td>\n",
       "    </tr>\n",
       "    <tr>\n",
       "      <th>138</th>\n",
       "      <td>139</td>\n",
       "      <td>Auckland, New Zealand</td>\n",
       "      <td>10/1/2023</td>\n",
       "      <td>10/8/2023</td>\n",
       "      <td>7.0</td>\n",
       "      <td>William Brown</td>\n",
       "      <td>39.0</td>\n",
       "      <td>Male</td>\n",
       "      <td>New Zealander</td>\n",
       "      <td>Hotel</td>\n",
       "      <td>7000</td>\n",
       "      <td>Train</td>\n",
       "      <td>2500</td>\n",
       "    </tr>\n",
       "  </tbody>\n",
       "</table>\n",
       "<p>139 rows × 13 columns</p>\n",
       "</div>"
      ],
      "text/plain": [
       "     Trip ID             Destination Start date   End date  Duration (days)   \n",
       "0          1              London, UK   5/1/2023   5/8/2023              7.0  \\\n",
       "1          2        Phuket, Thailand  6/15/2023  6/20/2023              5.0   \n",
       "2          3         Bali, Indonesia   7/1/2023   7/8/2023              7.0   \n",
       "3          4           New York, USA  8/15/2023  8/29/2023             14.0   \n",
       "4          5            Tokyo, Japan  9/10/2023  9/17/2023              7.0   \n",
       "..       ...                     ...        ...        ...              ...   \n",
       "134      135  Rio de Janeiro, Brazil   8/1/2023  8/10/2023              9.0   \n",
       "135      136       Vancouver, Canada  8/15/2023  8/21/2023              6.0   \n",
       "136      137       Bangkok, Thailand   9/1/2023   9/8/2023              7.0   \n",
       "137      138        Barcelona, Spain  9/15/2023  9/22/2023              7.0   \n",
       "138      139   Auckland, New Zealand  10/1/2023  10/8/2023              7.0   \n",
       "\n",
       "       Traveler name  Traveler age Traveler gender Traveler nationality   \n",
       "0         John Smith          35.0            Male             American  \\\n",
       "1           Jane Doe          28.0          Female             Canadian   \n",
       "2          David Lee          45.0            Male               Korean   \n",
       "3      Sarah Johnson          29.0          Female              British   \n",
       "4         Kim Nguyen          26.0          Female           Vietnamese   \n",
       "..               ...           ...             ...                  ...   \n",
       "134       Jose Perez          37.0            Male            Brazilian   \n",
       "135      Emma Wilson          29.0          Female             Canadian   \n",
       "136        Ryan Chen          34.0            Male              Chinese   \n",
       "137  Sofia Rodriguez          25.0          Female              Spanish   \n",
       "138    William Brown          39.0            Male        New Zealander   \n",
       "\n",
       "    Accommodation type Accommodation cost Transportation type   \n",
       "0                Hotel               1200              Flight  \\\n",
       "1               Resort                800              Flight   \n",
       "2                Villa               1000              Flight   \n",
       "3                Hotel               2000              Flight   \n",
       "4               Airbnb                700               Train   \n",
       "..                 ...                ...                 ...   \n",
       "134             Hostel               2500                 Car   \n",
       "135              Hotel               5000            Airplane   \n",
       "136             Hostel               2000               Train   \n",
       "137             Airbnb               6000            Airplane   \n",
       "138              Hotel               7000               Train   \n",
       "\n",
       "    Transportation cost  \n",
       "0                   600  \n",
       "1                   500  \n",
       "2                   700  \n",
       "3                  1000  \n",
       "4                   200  \n",
       "..                  ...  \n",
       "134                2000  \n",
       "135                3000  \n",
       "136                1000  \n",
       "137                2500  \n",
       "138                2500  \n",
       "\n",
       "[139 rows x 13 columns]"
      ]
     },
     "execution_count": 2,
     "metadata": {},
     "output_type": "execute_result"
    }
   ],
   "source": [
    "# -- Showing DataSet -- #\n",
    "\n",
    "file1 = pd.read_csv(\"../data/raw/travel_dataset.csv\")\n",
    "file1"
   ]
  },
  {
   "cell_type": "code",
   "execution_count": 3,
   "id": "ef080221",
   "metadata": {},
   "outputs": [
    {
     "data": {
      "text/plain": [
       "(139, 13)"
      ]
     },
     "metadata": {},
     "output_type": "display_data"
    }
   ],
   "source": [
    "# -- Showing DataFrame Shape -- #\n",
    "\n",
    "display(file1.shape)"
   ]
  },
  {
   "cell_type": "code",
   "execution_count": 4,
   "id": "039075ce",
   "metadata": {},
   "outputs": [
    {
     "data": {
      "text/plain": [
       "Trip ID                   int64\n",
       "Destination              object\n",
       "Start date               object\n",
       "End date                 object\n",
       "Duration (days)         float64\n",
       "Traveler name            object\n",
       "Traveler age            float64\n",
       "Traveler gender          object\n",
       "Traveler nationality     object\n",
       "Accommodation type       object\n",
       "Accommodation cost       object\n",
       "Transportation type      object\n",
       "Transportation cost      object\n",
       "dtype: object"
      ]
     },
     "metadata": {},
     "output_type": "display_data"
    }
   ],
   "source": [
    "# -- Showing DataFrame Info -- #\n",
    "\n",
    "display(file1.dtypes)"
   ]
  },
  {
   "cell_type": "code",
   "execution_count": 5,
   "id": "52e75e83",
   "metadata": {},
   "outputs": [
    {
     "data": {
      "text/plain": [
       "Index(['Trip ID', 'Destination', 'Start date', 'End date', 'Duration (days)',\n",
       "       'Traveler name', 'Traveler age', 'Traveler gender',\n",
       "       'Traveler nationality', 'Accommodation type', 'Accommodation cost',\n",
       "       'Transportation type', 'Transportation cost'],\n",
       "      dtype='object')"
      ]
     },
     "metadata": {},
     "output_type": "display_data"
    }
   ],
   "source": [
    "# -- Showing DataFrame Columns -- #\n",
    "\n",
    "display(file1.columns)"
   ]
  },
  {
   "cell_type": "markdown",
   "id": "aadecbc2",
   "metadata": {},
   "source": [
    "#  cleaning & exploring"
   ]
  },
  {
   "cell_type": "code",
   "execution_count": 6,
   "id": "10296a83",
   "metadata": {},
   "outputs": [
    {
     "data": {
      "text/html": [
       "<div>\n",
       "<style scoped>\n",
       "    .dataframe tbody tr th:only-of-type {\n",
       "        vertical-align: middle;\n",
       "    }\n",
       "\n",
       "    .dataframe tbody tr th {\n",
       "        vertical-align: top;\n",
       "    }\n",
       "\n",
       "    .dataframe thead th {\n",
       "        text-align: right;\n",
       "    }\n",
       "</style>\n",
       "<table border=\"1\" class=\"dataframe\">\n",
       "  <thead>\n",
       "    <tr style=\"text-align: right;\">\n",
       "      <th></th>\n",
       "      <th>trip_id</th>\n",
       "      <th>destination</th>\n",
       "      <th>start_date</th>\n",
       "      <th>end_date</th>\n",
       "      <th>duration_(days)</th>\n",
       "      <th>traveler_name</th>\n",
       "      <th>traveler_age</th>\n",
       "      <th>traveler_gender</th>\n",
       "      <th>traveler_nationality</th>\n",
       "      <th>accommodation_type</th>\n",
       "      <th>accommodation_cost</th>\n",
       "      <th>transportation_type</th>\n",
       "      <th>transportation_cost</th>\n",
       "    </tr>\n",
       "  </thead>\n",
       "  <tbody>\n",
       "    <tr>\n",
       "      <th>0</th>\n",
       "      <td>1</td>\n",
       "      <td>London, UK</td>\n",
       "      <td>5/1/2023</td>\n",
       "      <td>5/8/2023</td>\n",
       "      <td>7.0</td>\n",
       "      <td>John Smith</td>\n",
       "      <td>35.0</td>\n",
       "      <td>Male</td>\n",
       "      <td>American</td>\n",
       "      <td>Hotel</td>\n",
       "      <td>1200</td>\n",
       "      <td>Flight</td>\n",
       "      <td>600</td>\n",
       "    </tr>\n",
       "    <tr>\n",
       "      <th>1</th>\n",
       "      <td>2</td>\n",
       "      <td>Phuket, Thailand</td>\n",
       "      <td>6/15/2023</td>\n",
       "      <td>6/20/2023</td>\n",
       "      <td>5.0</td>\n",
       "      <td>Jane Doe</td>\n",
       "      <td>28.0</td>\n",
       "      <td>Female</td>\n",
       "      <td>Canadian</td>\n",
       "      <td>Resort</td>\n",
       "      <td>800</td>\n",
       "      <td>Flight</td>\n",
       "      <td>500</td>\n",
       "    </tr>\n",
       "    <tr>\n",
       "      <th>2</th>\n",
       "      <td>3</td>\n",
       "      <td>Bali, Indonesia</td>\n",
       "      <td>7/1/2023</td>\n",
       "      <td>7/8/2023</td>\n",
       "      <td>7.0</td>\n",
       "      <td>David Lee</td>\n",
       "      <td>45.0</td>\n",
       "      <td>Male</td>\n",
       "      <td>Korean</td>\n",
       "      <td>Villa</td>\n",
       "      <td>1000</td>\n",
       "      <td>Flight</td>\n",
       "      <td>700</td>\n",
       "    </tr>\n",
       "    <tr>\n",
       "      <th>3</th>\n",
       "      <td>4</td>\n",
       "      <td>New York, USA</td>\n",
       "      <td>8/15/2023</td>\n",
       "      <td>8/29/2023</td>\n",
       "      <td>14.0</td>\n",
       "      <td>Sarah Johnson</td>\n",
       "      <td>29.0</td>\n",
       "      <td>Female</td>\n",
       "      <td>British</td>\n",
       "      <td>Hotel</td>\n",
       "      <td>2000</td>\n",
       "      <td>Flight</td>\n",
       "      <td>1000</td>\n",
       "    </tr>\n",
       "    <tr>\n",
       "      <th>4</th>\n",
       "      <td>5</td>\n",
       "      <td>Tokyo, Japan</td>\n",
       "      <td>9/10/2023</td>\n",
       "      <td>9/17/2023</td>\n",
       "      <td>7.0</td>\n",
       "      <td>Kim Nguyen</td>\n",
       "      <td>26.0</td>\n",
       "      <td>Female</td>\n",
       "      <td>Vietnamese</td>\n",
       "      <td>Airbnb</td>\n",
       "      <td>700</td>\n",
       "      <td>Train</td>\n",
       "      <td>200</td>\n",
       "    </tr>\n",
       "  </tbody>\n",
       "</table>\n",
       "</div>"
      ],
      "text/plain": [
       "   trip_id       destination start_date   end_date  duration_(days)   \n",
       "0        1        London, UK   5/1/2023   5/8/2023              7.0  \\\n",
       "1        2  Phuket, Thailand  6/15/2023  6/20/2023              5.0   \n",
       "2        3   Bali, Indonesia   7/1/2023   7/8/2023              7.0   \n",
       "3        4     New York, USA  8/15/2023  8/29/2023             14.0   \n",
       "4        5      Tokyo, Japan  9/10/2023  9/17/2023              7.0   \n",
       "\n",
       "   traveler_name  traveler_age traveler_gender traveler_nationality   \n",
       "0     John Smith          35.0            Male             American  \\\n",
       "1       Jane Doe          28.0          Female             Canadian   \n",
       "2      David Lee          45.0            Male               Korean   \n",
       "3  Sarah Johnson          29.0          Female              British   \n",
       "4     Kim Nguyen          26.0          Female           Vietnamese   \n",
       "\n",
       "  accommodation_type accommodation_cost transportation_type   \n",
       "0              Hotel               1200              Flight  \\\n",
       "1             Resort                800              Flight   \n",
       "2              Villa               1000              Flight   \n",
       "3              Hotel               2000              Flight   \n",
       "4             Airbnb                700               Train   \n",
       "\n",
       "  transportation_cost  \n",
       "0                 600  \n",
       "1                 500  \n",
       "2                 700  \n",
       "3                1000  \n",
       "4                 200  "
      ]
     },
     "execution_count": 6,
     "metadata": {},
     "output_type": "execute_result"
    }
   ],
   "source": [
    "# -- Standardizing Column Names -- #\n",
    "cols = []\n",
    "for col in file1.columns:\n",
    "    col = col.lower().replace(' ', '_')\n",
    "    cols.append(col)\n",
    "file1.columns = cols\n",
    "file1.head()"
   ]
  },
  {
   "cell_type": "code",
   "execution_count": 7,
   "id": "06d79c94",
   "metadata": {
    "scrolled": false
   },
   "outputs": [
    {
     "data": {
      "text/plain": [
       "trip_id                 0\n",
       "destination             2\n",
       "start_date              2\n",
       "end_date                2\n",
       "duration_(days)         2\n",
       "traveler_name           2\n",
       "traveler_age            2\n",
       "traveler_gender         2\n",
       "traveler_nationality    2\n",
       "accommodation_type      2\n",
       "accommodation_cost      2\n",
       "transportation_type     3\n",
       "transportation_cost     3\n",
       "dtype: int64"
      ]
     },
     "execution_count": 7,
     "metadata": {},
     "output_type": "execute_result"
    }
   ],
   "source": [
    "# -- Checking Null values -- #\n",
    "\n",
    "file1.isna().sum()"
   ]
  },
  {
   "cell_type": "code",
   "execution_count": 8,
   "id": "2365a737",
   "metadata": {
    "scrolled": true
   },
   "outputs": [
    {
     "name": "stdout",
     "output_type": "stream",
     "text": [
      "     trip_id  destination start_date   end_date  duration_(days)   \n",
      "71        72          NaN        NaN        NaN              NaN  \\\n",
      "82        83  Rome, Italy  4/15/2025  4/22/2025              7.0   \n",
      "127      128          NaN        NaN        NaN              NaN   \n",
      "\n",
      "    traveler_name  traveler_age traveler_gender traveler_nationality   \n",
      "71            NaN           NaN             NaN                  NaN  \\\n",
      "82      James Kim          41.0            Male             American   \n",
      "127           NaN           NaN             NaN                  NaN   \n",
      "\n",
      "    accommodation_type accommodation_cost transportation_type   \n",
      "71                 NaN                NaN                 NaN  \\\n",
      "82               Hotel                100                 NaN   \n",
      "127                NaN                NaN                 NaN   \n",
      "\n",
      "    transportation_cost  \n",
      "71                  NaN  \n",
      "82                  NaN  \n",
      "127                 NaN  \n"
     ]
    }
   ],
   "source": [
    "# -- Showing null values by rows -- #\n",
    "\n",
    "null_rows = file1[file1.isnull().any(axis=1)]\n",
    "print(null_rows)\n"
   ]
  },
  {
   "cell_type": "code",
   "execution_count": 9,
   "id": "22404e6c",
   "metadata": {},
   "outputs": [],
   "source": [
    "# -- Dropping null values as there are not many and it won't effect the outcome -- #\n",
    "\n",
    "file1 = file1.dropna()"
   ]
  },
  {
   "cell_type": "code",
   "execution_count": 10,
   "id": "8058f0b7",
   "metadata": {},
   "outputs": [
    {
     "data": {
      "text/plain": [
       "trip_id                 0\n",
       "destination             0\n",
       "start_date              0\n",
       "end_date                0\n",
       "duration_(days)         0\n",
       "traveler_name           0\n",
       "traveler_age            0\n",
       "traveler_gender         0\n",
       "traveler_nationality    0\n",
       "accommodation_type      0\n",
       "accommodation_cost      0\n",
       "transportation_type     0\n",
       "transportation_cost     0\n",
       "dtype: int64"
      ]
     },
     "execution_count": 10,
     "metadata": {},
     "output_type": "execute_result"
    }
   ],
   "source": [
    "# -- Displaying null values after dropping them -- #\n",
    "\n",
    "file1.isna().sum()"
   ]
  },
  {
   "cell_type": "code",
   "execution_count": 11,
   "id": "80791573",
   "metadata": {},
   "outputs": [
    {
     "data": {
      "text/plain": [
       "False    136\n",
       "Name: count, dtype: int64"
      ]
     },
     "execution_count": 11,
     "metadata": {},
     "output_type": "execute_result"
    }
   ],
   "source": [
    "# -- Checking Duplicates -- #\n",
    "\n",
    "duplicate = file1.duplicated()\n",
    "duplicate.value_counts()"
   ]
  },
  {
   "cell_type": "code",
   "execution_count": 12,
   "id": "87544445",
   "metadata": {},
   "outputs": [
    {
     "data": {
      "text/plain": [
       "destination\n",
       "Paris                          7\n",
       "Bali                           7\n",
       "Tokyo, Japan                   7\n",
       "Paris, France                  7\n",
       "Tokyo                          5\n",
       "Sydney                         5\n",
       "Rome                           5\n",
       "New York                       5\n",
       "Bali, Indonesia                5\n",
       "Rio de Janeiro, Brazil         4\n",
       "Bangkok                        4\n",
       "Cancun, Mexico                 4\n",
       "Barcelona, Spain               4\n",
       "London                         4\n",
       "Rome, Italy                    3\n",
       "Bangkok, Thailand              3\n",
       "Sydney, Aus                    3\n",
       "London, UK                     3\n",
       "New York, USA                  3\n",
       "Sydney, Australia              3\n",
       "Vancouver, Canada              2\n",
       "New York City, USA             2\n",
       "Barcelona                      2\n",
       "Cape Town                      2\n",
       "Dubai                          2\n",
       "Amsterdam, Netherlands         2\n",
       "Bangkok, Thai                  1\n",
       "Seoul, South Korea             1\n",
       "Los Angeles, USA               1\n",
       "Cape Town, SA                  1\n",
       "Phuket                         1\n",
       "Santorini                      1\n",
       "Seoul                          1\n",
       "Rio de Janeiro                 1\n",
       "Amsterdam                      1\n",
       "Cape Town, South Africa        1\n",
       "Athens, Greece                 1\n",
       "Phnom Penh                     1\n",
       "Sydney, AUS                    1\n",
       "Phuket, Thai                   1\n",
       "Australia                      1\n",
       "Canada                         1\n",
       "Spain                          1\n",
       "Dubai, United Arab Emirates    1\n",
       "Honolulu, Hawaii               1\n",
       "Berlin, Germany                1\n",
       "Marrakech, Morocco             1\n",
       "Edinburgh, Scotland            1\n",
       "Hawaii                         1\n",
       "Japan                          1\n",
       "Thailand                       1\n",
       "France                         1\n",
       "Phuket, Thailand               1\n",
       "Brazil                         1\n",
       "Greece                         1\n",
       "Egypt                          1\n",
       "Mexico                         1\n",
       "Italy                          1\n",
       "Auckland, New Zealand          1\n",
       "Name: count, dtype: int64"
      ]
     },
     "execution_count": 12,
     "metadata": {},
     "output_type": "execute_result"
    }
   ],
   "source": [
    "# -- Value counts for destination column -- #\n",
    "\n",
    "file1.destination.value_counts()"
   ]
  },
  {
   "cell_type": "code",
   "execution_count": 13,
   "id": "5a83d46a",
   "metadata": {},
   "outputs": [
    {
     "name": "stderr",
     "output_type": "stream",
     "text": [
      "C:\\Users\\Home\\AppData\\Local\\Temp\\ipykernel_14444\\653240644.py:5: SettingWithCopyWarning: \n",
      "A value is trying to be set on a copy of a slice from a DataFrame.\n",
      "Try using .loc[row_indexer,col_indexer] = value instead\n",
      "\n",
      "See the caveats in the documentation: https://pandas.pydata.org/pandas-docs/stable/user_guide/indexing.html#returning-a-view-versus-a-copy\n",
      "  file1['destination'] = file1['destination'].replace({'Paris, France':'France',\n"
     ]
    }
   ],
   "source": [
    "# -- Replacing cities or countries under country name -- # \n",
    "# -- we apply this to avoid having repeatation -- #\n",
    "# --  performing a data manipulation task called \"data cleaning\" or \"data preprocessing\" -- #\n",
    "\n",
    "file1['destination'] = file1['destination'].replace({'Paris, France':'France',\n",
    "                                                  'Bali, Indonesia':'Indonesia',\n",
    "                                                  'Tokyo, Japan':'Japan',\n",
    "                                                  'Rio de Janeiro, Brazil':'Brazil',\n",
    "                                                  'Cancun, Mexico':'Mexico',\n",
    "                                                  'Barcelona, Spain':'Spain',\n",
    "                                                  'Bangkok, Thailand':'Thailand',\n",
    "                                                  'Sydney, Aus':'Australia',\n",
    "                                                  'London, UK':'UK',\n",
    "                                                  'New York, USA':'USA',\n",
    "                                                  'Sydney, Australia':'Australia',\n",
    "                                                  'Vancouver, Canada':'Canada',\n",
    "                                                  'New York City, USA':'USA',\n",
    "                                                  'Amsterdam, Netherlands':'Netherlands',\n",
    "                                                  'Bangkok, Thai':'Thailand',\n",
    "                                                  'Seoul, South Korea':'South Korea',\n",
    "                                                  'Los Angeles, USA':'USA',\n",
    "                                                  'Cape Town, SA':'South Africa',\n",
    "                                                  'Cape Town, South Africa':'South Africa',\n",
    "                                                  'Athens, Greece':'Greece',\n",
    "                                                  'Sydney, AUS':'Australia',\n",
    "                                                  'Phuket, Thai':'Thailand',\n",
    "                                                  'Dubai, United Arab Emirates':'United Arab Emirates',\n",
    "                                                  'Honolulu, Hawaii':'USA',\n",
    "                                                  'Berlin, Germany':'Germany',\n",
    "                                                  'Marrakech, Morocco':'Morocco',\n",
    "                                                  'Edinburgh, Scotland':'Scotland',\n",
    "                                                  'Phuket, Thailand':'Thailand',\n",
    "                                                  'Auckland, New Zealand':'New Zealand',\n",
    "                                                  'Rome, Italy':'Italy'})"
   ]
  },
  {
   "cell_type": "code",
   "execution_count": 14,
   "id": "d4399779",
   "metadata": {
    "scrolled": false
   },
   "outputs": [
    {
     "data": {
      "text/plain": [
       "destination\n",
       "Japan                   8\n",
       "France                  8\n",
       "Australia               8\n",
       "Bali                    7\n",
       "USA                     7\n",
       "Paris                   7\n",
       "Thailand                7\n",
       "Sydney                  5\n",
       "Spain                   5\n",
       "Rome                    5\n",
       "Tokyo                   5\n",
       "Mexico                  5\n",
       "New York                5\n",
       "Brazil                  5\n",
       "Indonesia               5\n",
       "Bangkok                 4\n",
       "London                  4\n",
       "Italy                   4\n",
       "Canada                  3\n",
       "UK                      3\n",
       "Cape Town               2\n",
       "Dubai                   2\n",
       "Barcelona               2\n",
       "Greece                  2\n",
       "Netherlands             2\n",
       "South Africa            2\n",
       "Phnom Penh              1\n",
       "Santorini               1\n",
       "Phuket                  1\n",
       "Amsterdam               1\n",
       "Rio de Janeiro          1\n",
       "Seoul                   1\n",
       "Scotland                1\n",
       "Morocco                 1\n",
       "South Korea             1\n",
       "United Arab Emirates    1\n",
       "Egypt                   1\n",
       "Hawaii                  1\n",
       "Germany                 1\n",
       "New Zealand             1\n",
       "Name: count, dtype: int64"
      ]
     },
     "execution_count": 14,
     "metadata": {},
     "output_type": "execute_result"
    }
   ],
   "source": [
    "# -- Value counts for destination column after applying data manipulation -- #\n",
    "\n",
    "file1.destination.value_counts()"
   ]
  },
  {
   "cell_type": "code",
   "execution_count": 15,
   "id": "51e7fc2b",
   "metadata": {},
   "outputs": [
    {
     "name": "stderr",
     "output_type": "stream",
     "text": [
      "C:\\Users\\Home\\AppData\\Local\\Temp\\ipykernel_14444\\4293257733.py:29: SettingWithCopyWarning: \n",
      "A value is trying to be set on a copy of a slice from a DataFrame.\n",
      "Try using .loc[row_indexer,col_indexer] = value instead\n",
      "\n",
      "See the caveats in the documentation: https://pandas.pydata.org/pandas-docs/stable/user_guide/indexing.html#returning-a-view-versus-a-copy\n",
      "  file1['destination'] = file1['destination'].replace(city_to_country)\n"
     ]
    }
   ],
   "source": [
    "# -- Putting cities to their respective countries to evaluate as per country -- #\n",
    "\n",
    "city_to_country = {'Paris': 'France',\n",
    "                   'Bali': 'Indonesia',\n",
    "                   'Tokyo': 'Japan',\n",
    "                   'Rio de Janeiro': 'Brazil',\n",
    "                   'Cancun': 'Mexico',\n",
    "                   'Barcelona': 'Spain',\n",
    "                   'Bangkok': 'Thailand',\n",
    "                   'Sydney': 'Australia',\n",
    "                   'London': 'UK',\n",
    "                   'New York': 'USA',\n",
    "                   'Vancouver': 'Canada',\n",
    "                   'Amsterdam': 'Netherlands',\n",
    "                   'Seoul': 'South Korea',\n",
    "                   'Cape Town': 'South Africa',\n",
    "                   'Athens': 'Greece',\n",
    "                   'Phuket': 'Thailand',\n",
    "                   'Dubai': 'United Arab Emirates',\n",
    "                   'Honolulu': 'Hawaii',\n",
    "                   'Berlin': 'Germany',\n",
    "                   'Marrakech': 'Morocco',\n",
    "                   'Edinburgh': 'Scotland',\n",
    "                   'Auckland': 'New Zealand',\n",
    "                   'Phnom Penh' : 'Cambodia',\n",
    "                   'Santorini': 'Greece',\n",
    "                   'Rome': 'Italy'}\n",
    "\n",
    "file1['destination'] = file1['destination'].replace(city_to_country)"
   ]
  },
  {
   "cell_type": "code",
   "execution_count": 16,
   "id": "34f31d99",
   "metadata": {},
   "outputs": [
    {
     "data": {
      "text/plain": [
       "destination\n",
       "France                  15\n",
       "Japan                   13\n",
       "Australia               13\n",
       "Thailand                12\n",
       "Indonesia               12\n",
       "USA                     12\n",
       "Italy                    9\n",
       "UK                       7\n",
       "Spain                    7\n",
       "Brazil                   6\n",
       "Mexico                   5\n",
       "South Africa             4\n",
       "United Arab Emirates     3\n",
       "Canada                   3\n",
       "Netherlands              3\n",
       "Greece                   3\n",
       "South Korea              2\n",
       "Cambodia                 1\n",
       "Germany                  1\n",
       "Egypt                    1\n",
       "Hawaii                   1\n",
       "Scotland                 1\n",
       "Morocco                  1\n",
       "New Zealand              1\n",
       "Name: count, dtype: int64"
      ]
     },
     "execution_count": 16,
     "metadata": {},
     "output_type": "execute_result"
    }
   ],
   "source": [
    "# -- Final count for column destination by country -- #\n",
    "\n",
    "file1.destination.value_counts()"
   ]
  },
  {
   "cell_type": "code",
   "execution_count": 17,
   "id": "5bfebcf8",
   "metadata": {},
   "outputs": [
    {
     "data": {
      "text/plain": [
       "transportation_type\n",
       "Plane         57\n",
       "Train         37\n",
       "Flight        13\n",
       "Car rental    13\n",
       "Bus            6\n",
       "Airplane       5\n",
       "Car            3\n",
       "Subway         1\n",
       "Ferry          1\n",
       "Name: count, dtype: int64"
      ]
     },
     "execution_count": 17,
     "metadata": {},
     "output_type": "execute_result"
    }
   ],
   "source": [
    "# -- Value count for transportation column -- #\n",
    "\n",
    "file1.transportation_type.value_counts()"
   ]
  },
  {
   "cell_type": "code",
   "execution_count": 18,
   "id": "5ab26a36",
   "metadata": {},
   "outputs": [
    {
     "name": "stderr",
     "output_type": "stream",
     "text": [
      "C:\\Users\\Home\\AppData\\Local\\Temp\\ipykernel_14444\\3874847957.py:4: SettingWithCopyWarning: \n",
      "A value is trying to be set on a copy of a slice from a DataFrame\n",
      "\n",
      "See the caveats in the documentation: https://pandas.pydata.org/pandas-docs/stable/user_guide/indexing.html#returning-a-view-versus-a-copy\n",
      "  file1.replace({\"Plane\": \"Air travel\", \"Flight\": \"Air travel\", \"Airplane\": \"Air travel\"}, inplace=True)\n"
     ]
    }
   ],
   "source": [
    "# -- Here I am combining same mode of transport with different known names under one name -- #\n",
    "# -- For this dataset I had 3 different names for air transporattion which I had combine under \"Air travel\" -- #\n",
    "\n",
    "file1.replace({\"Plane\": \"Air travel\", \"Flight\": \"Air travel\", \"Airplane\": \"Air travel\"}, inplace=True)"
   ]
  },
  {
   "cell_type": "code",
   "execution_count": 19,
   "id": "468765a0",
   "metadata": {},
   "outputs": [
    {
     "data": {
      "text/plain": [
       "transportation_type\n",
       "Air travel    75\n",
       "Train         37\n",
       "Car rental    13\n",
       "Bus            6\n",
       "Car            3\n",
       "Subway         1\n",
       "Ferry          1\n",
       "Name: count, dtype: int64"
      ]
     },
     "execution_count": 19,
     "metadata": {},
     "output_type": "execute_result"
    }
   ],
   "source": [
    "# -- Value count after applying replace function above -- #\n",
    "\n",
    "file1.transportation_type.value_counts()"
   ]
  },
  {
   "cell_type": "markdown",
   "id": "d0d569e4",
   "metadata": {},
   "source": [
    "# Destination Preferences "
   ]
  },
  {
   "cell_type": "markdown",
   "id": "e8960b1d",
   "metadata": {},
   "source": [
    "\n",
    "\n",
    "\n",
    "* Single variable plots\n",
    "\n",
    "* Single variable plot helps you to know/read your dataset better\n",
    "\n",
    "* Now let's explore the most frequent destination"
   ]
  },
  {
   "cell_type": "code",
   "execution_count": 20,
   "id": "5ffa7881",
   "metadata": {
    "scrolled": false
   },
   "outputs": [
    {
     "data": {
      "image/png": "[encoded data removed]",
      "text/plain": [
       "<Figure size 640x480 with 1 Axes>"
      ]
     },
     "metadata": {},
     "output_type": "display_data"
    }
   ],
   "source": [
    "ax = sns.countplot(y=file1.destination, order=list(file1.destination.value_counts().index))\n",
    "for container in ax.containers:\n",
    "    ax.bar_label(container)\n",
    "plt.xticks(rotation=0)\n",
    "plt.savefig(\"../Images/Destination.png\", dpi=300)\n",
    "plt.show()"
   ]
  },
  {
   "cell_type": "markdown",
   "id": "c0729e3b",
   "metadata": {},
   "source": [
    "# Accomodation Preferences"
   ]
  },
  {
   "cell_type": "markdown",
   "id": "4e482f8b",
   "metadata": {},
   "source": [
    "* Now let's explore the most frequent accomodation type."
   ]
  },
  {
   "cell_type": "code",
   "execution_count": 21,
   "id": "147f2b79",
   "metadata": {},
   "outputs": [
    {
     "data": {
      "image/png": "[encoded data removed]",
      "text/plain": [
       "<Figure size 640x480 with 1 Axes>"
      ]
     },
     "metadata": {},
     "output_type": "display_data"
    }
   ],
   "source": [
    "ax = sns.countplot(y=file1.accommodation_type, order=list(file1.accommodation_type.value_counts().index))\n",
    "for container in ax.containers:\n",
    "    ax.bar_label(container)\n",
    "plt.xticks(rotation=0)\n",
    "plt.savefig(\"../Images/Accommodation Type.png\", dpi=300)\n",
    "plt.show()"
   ]
  },
  {
   "cell_type": "markdown",
   "id": "c923fd94",
   "metadata": {},
   "source": [
    "# Transportation Preferences\n",
    "\n",
    "* Checking for the most use transportation type "
   ]
  },
  {
   "cell_type": "code",
   "execution_count": 22,
   "id": "66e621ec",
   "metadata": {},
   "outputs": [
    {
     "data": {
      "image/png": "[encoded data removed]",
      "text/plain": [
       "<Figure size 640x480 with 1 Axes>"
      ]
     },
     "metadata": {},
     "output_type": "display_data"
    }
   ],
   "source": [
    "ax = sns.countplot(y=file1.transportation_type, order=list(file1.transportation_type.value_counts().index))\n",
    "for container in ax.containers:\n",
    "    ax.bar_label(container)\n",
    "plt.xticks(rotation=0)\n",
    "plt.savefig(\"../Images/Transportation_Type.png\", dpi=300)\n",
    "plt.show()"
   ]
  },
  {
   "cell_type": "markdown",
   "id": "6d4fc58b",
   "metadata": {},
   "source": [
    "# Most popular destination by gender\n"
   ]
  },
  {
   "cell_type": "code",
   "execution_count": 23,
   "id": "b2df0e0b",
   "metadata": {},
   "outputs": [
    {
     "data": {
      "image/png": "[encoded data removed]",
      "text/plain": [
       "<Figure size 640x480 with 1 Axes>"
      ]
     },
     "metadata": {},
     "output_type": "display_data"
    }
   ],
   "source": [
    "my_palette = {\"Female\": \"#8FD970\", \"Male\": \"#EE7AEE\"}\n",
    "sns.countplot(y=file1.destination, hue=file1.traveler_gender, palette=my_palette, order=list(file1.destination.value_counts().index))\n",
    "plt.xticks(rotation=0)\n",
    "plt.savefig(\"../Images/destination_by_traveler_gender.png\", dpi=300)\n",
    "plt.show()\n",
    "\n"
   ]
  },
  {
   "cell_type": "markdown",
   "id": "440b5f68",
   "metadata": {},
   "source": [
    "# Most popular accommodation type by gender\n",
    "\n"
   ]
  },
  {
   "cell_type": "code",
   "execution_count": 24,
   "id": "217e9faa",
   "metadata": {
    "scrolled": false
   },
   "outputs": [
    {
     "data": {
      "image/png": "[encoded data removed]",
      "text/plain": [
       "<Figure size 640x480 with 1 Axes>"
      ]
     },
     "metadata": {},
     "output_type": "display_data"
    }
   ],
   "source": [
    "my_palette = {\"Female\": \"#674EA7\", \"Male\": \"#FFFF00\"}\n",
    "ax = sns.countplot(y=file1.accommodation_type, hue=file1.traveler_gender, palette=my_palette, order=list(file1.accommodation_type.value_counts().index))\n",
    "for container in ax.containers:\n",
    "    ax.bar_label(container)\n",
    "plt.xticks(rotation=0)\n",
    "plt.savefig(\"../Images/accommodation_type_by_traveler_gender.png\", dpi=300)\n",
    "plt.show()"
   ]
  },
  {
   "cell_type": "markdown",
   "id": "56ba86fa",
   "metadata": {},
   "source": [
    "# Most Popular transportation type by gender "
   ]
  },
  {
   "cell_type": "code",
   "execution_count": 25,
   "id": "f4e6ff07",
   "metadata": {},
   "outputs": [
    {
     "data": {
      "image/png": "[encoded data removed]",
      "text/plain": [
       "<Figure size 640x480 with 1 Axes>"
      ]
     },
     "metadata": {},
     "output_type": "display_data"
    }
   ],
   "source": [
    "my_palette = {\"Female\": \"#6AA84F\", \"Male\": \"#A64D79\"}\n",
    "ax = sns.countplot(y=file1.transportation_type, hue=file1.traveler_gender, palette=my_palette,  order=list(file1.transportation_type.value_counts().index))\n",
    "for container in ax.containers:\n",
    "    ax.bar_label(container)\n",
    "plt.xticks(rotation=0)\n",
    "plt.savefig(\"../Images/transportation_type_by_traveler_gender.png\", dpi=300)\n",
    "plt.show()"
   ]
  },
  {
   "cell_type": "code",
   "execution_count": 26,
   "id": "fda54210",
   "metadata": {},
   "outputs": [],
   "source": [
    "file1.to_csv(\"../data/clean/travel_dataset.csv\", index=False)"
   ]
  },
  {
   "cell_type": "markdown",
   "id": "0f5fcee4",
   "metadata": {},
   "source": [
    "# Conclusions\n",
    "\n",
    "##### In conclusion, our analysis of the traveler trip dataset using Python has provided valuable insights into the travel patterns and preferences of genders. The results of our analysis suggest that males and females have different travel behaviors when it comes to destination, transportation mode, and accommodation type. By identifying these differences, travel businesses and policymakers can make informed decisions to provide better travel experiences and improve the overall tourism industry."
   ]
  }
 ],
 "metadata": {
  "kernelspec": {
   "display_name": "Mid_Project_Env",
   "language": "python",
   "name": "mid_project_env"
  },
  "language_info": {
   "codemirror_mode": {
    "name": "ipython",
    "version": 3
   },
   "file_extension": ".py",
   "mimetype": "text/x-python",
   "name": "python",
   "nbconvert_exporter": "python",
   "pygments_lexer": "ipython3",
   "version": "3.9.13"
  }
 },
 "nbformat": 4,
 "nbformat_minor": 5
}
